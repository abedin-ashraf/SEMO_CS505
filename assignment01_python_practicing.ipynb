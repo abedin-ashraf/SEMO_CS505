{
  "cells": [
    {
      "cell_type": "markdown",
      "id": "a0076141",
      "metadata": {
        "id": "a0076141"
      },
      "source": [
        "# Assignment #01\n",
        "\n",
        "This assignment is composed of multiple Python and NumPy programming exercises. The deliverable of this assignment is this jupyter-notebook completed with your solution.\n",
        "\n",
        "You are being assessed based on:\n",
        "\n",
        "1. Code execution - 25%\n",
        "2. Clarity of the code (e.g., easy to follow, has pertinent comments, etc.) - 25%\n",
        "3. Proper usage of the techniques seen in class - 25%\n",
        "4. Quality and correcteness of the results - 25%\n",
        "\n",
        "Points distribution:\n",
        "- Question 2-21: 3 points per question\n",
        "- Questions 22-26: 8 points per question (total 40)\n",
        "- Total: 100 ponits"
      ]
    },
    {
      "cell_type": "code",
      "execution_count": null,
      "id": "406e1cc3",
      "metadata": {
        "id": "406e1cc3"
      },
      "outputs": [],
      "source": [
        "import matplotlib.pylab as plt"
      ]
    },
    {
      "cell_type": "markdown",
      "id": "e630a6ff",
      "metadata": {
        "id": "e630a6ff"
      },
      "source": [
        "**1. Import the numpy package under the name np**"
      ]
    },
    {
      "cell_type": "code",
      "execution_count": null,
      "id": "a8189569",
      "metadata": {
        "id": "a8189569"
      },
      "outputs": [],
      "source": [
        "import numpy as np"
      ]
    },
    {
      "cell_type": "markdown",
      "id": "69481ae6",
      "metadata": {
        "id": "69481ae6"
      },
      "source": [
        "**2. Print the numpy version and the configuration**"
      ]
    },
    {
      "cell_type": "code",
      "execution_count": null,
      "id": "6898e793",
      "metadata": {
        "colab": {
          "base_uri": "https://localhost:8080/"
        },
        "id": "6898e793",
        "outputId": "b76038c7-f15f-4f0f-8b2a-c9afefb2537b"
      },
      "outputs": [
        {
          "output_type": "stream",
          "name": "stdout",
          "text": [
            "1.23.5\n"
          ]
        }
      ],
      "source": [
        "import numpy\n",
        "print(numpy.version.version)"
      ]
    },
    {
      "cell_type": "markdown",
      "id": "488e5b7e",
      "metadata": {
        "id": "488e5b7e"
      },
      "source": [
        "**3. Create a 1D array of zeros of size 10 of type float32**"
      ]
    },
    {
      "cell_type": "code",
      "execution_count": null,
      "id": "e0325599",
      "metadata": {
        "colab": {
          "base_uri": "https://localhost:8080/"
        },
        "id": "e0325599",
        "outputId": "f3f7cefe-10b8-45db-a702-a68569570040"
      },
      "outputs": [
        {
          "output_type": "stream",
          "name": "stdout",
          "text": [
            "[0, 0, 0, 0, 0, 0, 0, 0, 0, 0]\n"
          ]
        }
      ],
      "source": [
        "arr = [0]* 10\n",
        "print(arr)"
      ]
    },
    {
      "cell_type": "markdown",
      "id": "2bb9ce0d",
      "metadata": {
        "id": "2bb9ce0d"
      },
      "source": [
        "**4. Print the memory size of the array below**"
      ]
    },
    {
      "cell_type": "code",
      "execution_count": null,
      "id": "c585efa0",
      "metadata": {
        "colab": {
          "base_uri": "https://localhost:8080/"
        },
        "id": "c585efa0",
        "outputId": "1e618141-b996-4e0f-8133-7238126bae03"
      },
      "outputs": [
        {
          "output_type": "stream",
          "name": "stdout",
          "text": [
            "3072\n"
          ]
        }
      ],
      "source": [
        "z = np.zeros((32,12))\n",
        "# Include your solution below\n",
        "print(z.size*z.itemsize)\n"
      ]
    },
    {
      "cell_type": "markdown",
      "id": "ac3c1619",
      "metadata": {
        "id": "ac3c1619"
      },
      "source": [
        "**5. Create a 1D array with values ranging from 10 to 58**"
      ]
    },
    {
      "cell_type": "code",
      "execution_count": null,
      "id": "a7dad49f",
      "metadata": {
        "id": "a7dad49f",
        "colab": {
          "base_uri": "https://localhost:8080/"
        },
        "outputId": "51b74674-ebc4-4aa4-fd7e-0be93653c1bc"
      },
      "outputs": [
        {
          "output_type": "stream",
          "name": "stdout",
          "text": [
            "[10 11 12 13 14 15 16 17 18 19 20 21 22 23 24 25 26 27 28 29 30 31 32 33\n",
            " 34 35 36 37 38 39 40 41 42 43 44 45 46 47 48 49 50 51 52 53 54 55 56 57\n",
            " 58]\n"
          ]
        }
      ],
      "source": [
        " arr = np.arange(10,59)\n",
        " print(arr)"
      ]
    },
    {
      "cell_type": "markdown",
      "id": "481bc867",
      "metadata": {
        "id": "481bc867"
      },
      "source": [
        "**6. Reverse the order of the values in the vector (first element becomes last)**"
      ]
    },
    {
      "cell_type": "code",
      "execution_count": null,
      "id": "666b7284",
      "metadata": {
        "id": "666b7284",
        "colab": {
          "base_uri": "https://localhost:8080/"
        },
        "outputId": "49402279-1819-4cba-a947-4cbfc88bbd50"
      },
      "outputs": [
        {
          "output_type": "stream",
          "name": "stdout",
          "text": [
            "[9 8 7 6 5 4 3 2 1 0]\n"
          ]
        }
      ],
      "source": [
        "arr2 = np.arange(10)\n",
        "# Include your solution below\n",
        "reversed = arr2[::-1]\n",
        "print(reversed)"
      ]
    },
    {
      "cell_type": "markdown",
      "id": "4015e4b7",
      "metadata": {
        "id": "4015e4b7"
      },
      "source": [
        "**7. Create a 3x3 matrix with values ranging from 0 to 8**"
      ]
    },
    {
      "cell_type": "code",
      "execution_count": null,
      "id": "5473afb8",
      "metadata": {
        "id": "5473afb8",
        "colab": {
          "base_uri": "https://localhost:8080/"
        },
        "outputId": "8f9b96e8-8645-4d78-e357-f9bd94799a78"
      },
      "outputs": [
        {
          "output_type": "stream",
          "name": "stdout",
          "text": [
            "[[0 1 2]\n",
            " [3 4 5]\n",
            " [6 7 8]]\n"
          ]
        }
      ],
      "source": [
        "array = np.arange(9)\n",
        "matrix = array.reshape(3,3)\n",
        "print(matrix)"
      ]
    },
    {
      "cell_type": "markdown",
      "id": "5c4bc51f",
      "metadata": {
        "id": "5c4bc51f"
      },
      "source": [
        "**8. Create a 3x3 identity matrix**"
      ]
    },
    {
      "cell_type": "code",
      "execution_count": null,
      "id": "53021a53",
      "metadata": {
        "id": "53021a53",
        "colab": {
          "base_uri": "https://localhost:8080/"
        },
        "outputId": "6b76f4a8-ea1a-42e3-9063-d7d98596d4d2"
      },
      "outputs": [
        {
          "output_type": "stream",
          "name": "stdout",
          "text": [
            "[[1. 0. 0.]\n",
            " [0. 1. 0.]\n",
            " [0. 0. 1.]]\n"
          ]
        }
      ],
      "source": [
        "iden_matrix = np.eye(3)\n",
        "print(iden_matrix)"
      ]
    },
    {
      "cell_type": "markdown",
      "id": "ece658cf",
      "metadata": {
        "id": "ece658cf"
      },
      "source": [
        "**9. Find and print the maximum values of each column in the array below**"
      ]
    },
    {
      "cell_type": "code",
      "execution_count": null,
      "id": "0e9fb437",
      "metadata": {
        "id": "0e9fb437",
        "colab": {
          "base_uri": "https://localhost:8080/"
        },
        "outputId": "2b84f278-7bf6-4181-da8b-b8fa576a89b4"
      },
      "outputs": [
        {
          "output_type": "stream",
          "name": "stdout",
          "text": [
            "[0.7523149  0.70897811 0.98949676 0.88626953 0.88340252 0.95726304\n",
            " 0.84058069 0.9194037  0.95787103 0.6784513  0.93140788]\n"
          ]
        }
      ],
      "source": [
        "z = np.random.random((10,11))\n",
        "# Include your solution below\n",
        "\n",
        "max_values = np.max(z, axis = 0)\n",
        "print(max_values)"
      ]
    },
    {
      "cell_type": "markdown",
      "id": "8f5454c7",
      "metadata": {
        "id": "8f5454c7"
      },
      "source": [
        "**10. Create a $7 \\times 7$ array with 1s on the borders (first row and column, last row and columns) and 0s everywhere else**"
      ]
    },
    {
      "cell_type": "code",
      "execution_count": null,
      "id": "1d875733",
      "metadata": {
        "id": "1d875733",
        "colab": {
          "base_uri": "https://localhost:8080/"
        },
        "outputId": "16587ca4-2d10-4d1e-fc15-6da8a437e297"
      },
      "outputs": [
        {
          "output_type": "stream",
          "name": "stdout",
          "text": [
            "[[1. 1. 1. 1. 1. 1. 1.]\n",
            " [1. 0. 0. 0. 0. 0. 1.]\n",
            " [1. 0. 0. 0. 0. 0. 1.]\n",
            " [1. 0. 0. 0. 0. 0. 1.]\n",
            " [1. 0. 0. 0. 0. 0. 1.]\n",
            " [1. 0. 0. 0. 0. 0. 1.]\n",
            " [1. 1. 1. 1. 1. 1. 1.]]\n"
          ]
        }
      ],
      "source": [
        "array3 = np.zeros((7,7))\n",
        "\n",
        "#first row\n",
        "array3[0,:] = 1\n",
        "#last row\n",
        "array3[-1, :] = 1\n",
        "#first column\n",
        "array3[:,0] = 1\n",
        "#last column\n",
        "array3[:,-1] = 1\n",
        "\n",
        "print(array3)\n",
        "\n"
      ]
    },
    {
      "cell_type": "markdown",
      "id": "17463bad",
      "metadata": {
        "id": "17463bad"
      },
      "source": [
        "**11. Pad the existing array below with zeros (i.e., add additional rows and columns with zeros). Use the NumPy pad function.**"
      ]
    },
    {
      "cell_type": "code",
      "execution_count": null,
      "id": "d0c886eb",
      "metadata": {
        "id": "d0c886eb",
        "colab": {
          "base_uri": "https://localhost:8080/"
        },
        "outputId": "a7591c74-3f95-4921-b8d2-d5356b763ccd"
      },
      "outputs": [
        {
          "output_type": "stream",
          "name": "stdout",
          "text": [
            "[[0. 0. 0. 0. 0. 0. 0.]\n",
            " [0. 1. 1. 1. 1. 1. 0.]\n",
            " [0. 1. 1. 1. 1. 1. 0.]\n",
            " [0. 1. 1. 1. 1. 1. 0.]\n",
            " [0. 1. 1. 1. 1. 1. 0.]\n",
            " [0. 1. 1. 1. 1. 1. 0.]\n",
            " [0. 0. 0. 0. 0. 0. 0.]]\n"
          ]
        }
      ],
      "source": [
        "z = np.ones((5,5))\n",
        "# Include your solution below\n",
        "pad_z = np.pad(z, ((1,1),(1,1,)), mode = 'constant', constant_values=0)\n",
        "\n",
        "print(pad_z)"
      ]
    },
    {
      "cell_type": "markdown",
      "id": "cc605db6",
      "metadata": {
        "id": "cc605db6"
      },
      "source": [
        "**12. Extract the integer part of the random array of positive numbers below**"
      ]
    },
    {
      "cell_type": "code",
      "execution_count": null,
      "id": "91262309",
      "metadata": {
        "id": "91262309",
        "colab": {
          "base_uri": "https://localhost:8080/"
        },
        "outputId": "49b91852-d8ac-4658-d0f8-bca2be71cc33"
      },
      "outputs": [
        {
          "output_type": "stream",
          "name": "stdout",
          "text": [
            "[8 3 4 7 8 0 0 5 5 2]\n"
          ]
        }
      ],
      "source": [
        "z = np.random.uniform(0,10,10)\n",
        "# Include your solution below\n",
        "\n",
        "int_part = np.floor(z).astype(int)\n",
        "print(int_part)"
      ]
    },
    {
      "cell_type": "markdown",
      "id": "b2322f9e",
      "metadata": {
        "id": "b2322f9e"
      },
      "source": [
        "**13. Create a 5x5 matrix with rows with equal values ranging from 0 to 4 (i.e., [[0. 1. 2. 3. 4.]\n",
        " [0. 1. 2. 3. 4.]\n",
        " [0. 1. 2. 3. 4.]\n",
        " [0. 1. 2. 3. 4.]\n",
        " [0. 1. 2. 3. 4.]])**\n",
        "\n"
      ]
    },
    {
      "cell_type": "code",
      "execution_count": null,
      "id": "7e5020cf",
      "metadata": {
        "id": "7e5020cf",
        "colab": {
          "base_uri": "https://localhost:8080/"
        },
        "outputId": "fc134aba-5337-47bd-950e-bf735f3878d3"
      },
      "outputs": [
        {
          "output_type": "stream",
          "name": "stdout",
          "text": [
            "[[0 1 2 3 4]\n",
            " [0 1 2 3 4]\n",
            " [0 1 2 3 4]\n",
            " [0 1 2 3 4]\n",
            " [0 1 2 3 4]]\n"
          ]
        }
      ],
      "source": [
        "matrix = np.tile(np.arange(5),(5,1))\n",
        "print(matrix)"
      ]
    },
    {
      "cell_type": "markdown",
      "id": "a0e33aa2",
      "metadata": {
        "id": "a0e33aa2"
      },
      "source": [
        "**14. Create a vector of size 10 with values ranging from 0 to 1 (0 and 1 not included)**\n",
        "\n",
        "*Hint: Consider using the linspace function*"
      ]
    },
    {
      "cell_type": "code",
      "execution_count": null,
      "id": "9dedac47",
      "metadata": {
        "id": "9dedac47",
        "colab": {
          "base_uri": "https://localhost:8080/"
        },
        "outputId": "85a0246d-252b-4f11-955b-276a2789ec78"
      },
      "outputs": [
        {
          "output_type": "stream",
          "name": "stdout",
          "text": [
            "[0.  0.1 0.2 0.3 0.4 0.5 0.6 0.7 0.8 0.9]\n"
          ]
        }
      ],
      "source": [
        "vector = np.linspace(0,1,10,endpoint=False)\n",
        "print(vector)"
      ]
    },
    {
      "cell_type": "markdown",
      "id": "7f53938a",
      "metadata": {
        "id": "7f53938a"
      },
      "source": [
        "**15. Create a random vector of size 10 and sort it**"
      ]
    },
    {
      "cell_type": "code",
      "execution_count": null,
      "id": "5344f46b",
      "metadata": {
        "id": "5344f46b",
        "colab": {
          "base_uri": "https://localhost:8080/"
        },
        "outputId": "4d4a8457-f265-461e-dad7-d127f1ac3d7a"
      },
      "outputs": [
        {
          "output_type": "stream",
          "name": "stdout",
          "text": [
            "[0.0039227  0.01153839 0.01757918 0.22883861 0.37298613 0.43874095\n",
            " 0.5714753  0.60618344 0.70575184 0.92821664]\n"
          ]
        }
      ],
      "source": [
        "random_vec = np.random.rand(10)\n",
        "\n",
        "sorted_random_vec = np.sort(random_vec)\n",
        "\n",
        "print(sorted_random_vec)"
      ]
    },
    {
      "cell_type": "markdown",
      "id": "993d1dcd",
      "metadata": {
        "id": "993d1dcd"
      },
      "source": [
        "**16. Consider the cartesian coordinates below (x and y), convert them to polar coordinates (r and θ)**\n",
        " <br> **Cartesian ordered pair (x, y) converts to the Polar ordered pair**\n",
        " <br> Since\n",
        "\\begin{equation*}\n",
        "\\tan\\theta=\\frac{y}{x},\\\\   \n",
        "\\theta=\\tan^{−1}\\frac{y}{x}\n",
        "\\end{equation*}\n",
        "<br>So, the Cartesian ordered pair (x,y) converts to the Polar ordered pair\n",
        "\\begin{equation*}\n",
        " (r,\\theta)=(\\sqrt{x^2+y^2},\\tan^{−1}\\frac{y}{x})\n",
        "\\end{equation*}"
      ]
    },
    {
      "cell_type": "code",
      "execution_count": null,
      "id": "352ee19a",
      "metadata": {
        "id": "352ee19a",
        "colab": {
          "base_uri": "https://localhost:8080/"
        },
        "outputId": "d1f20ccb-3ffb-4cd9-be86-dbab2a1c5b94"
      },
      "outputs": [
        {
          "output_type": "stream",
          "name": "stdout",
          "text": [
            "r =  [0.19796191 0.84360715 0.55701512 0.42352635 0.83903782 0.09918243\n",
            " 0.69550163 0.03139359 0.40111918 0.4376306 ]\n",
            "θ =  [1.18773703 0.07496394 0.87299054 0.88336161 0.51117767 0.56103497\n",
            " 0.57576982 1.51669734 0.44386396 0.69877483]\n"
          ]
        }
      ],
      "source": [
        "z = np.random.random((10,2))\n",
        "x,y = z[:,0], z[:,1]\n",
        "\n",
        "# Include your solution below\n",
        "#Convert to Polar coordinates\n",
        "r = np.sqrt(x**2,y**2)\n",
        "theta = np.arctan2(y,x)\n",
        "\n",
        "#Convert radians to degree\n",
        "theta_deg = np.degrees(theta)\n",
        "\n",
        "print(\"r = \",r)\n",
        "print(\"θ = \", theta)"
      ]
    },
    {
      "cell_type": "markdown",
      "id": "1a70d322",
      "metadata": {
        "id": "1a70d322"
      },
      "source": [
        "**17. Create random vector of size 20 and replace the maximum value by -10**"
      ]
    },
    {
      "cell_type": "code",
      "execution_count": null,
      "id": "afcdb30c",
      "metadata": {
        "id": "afcdb30c",
        "colab": {
          "base_uri": "https://localhost:8080/"
        },
        "outputId": "449dc74a-3976-478f-bd5a-b909fba0a205"
      },
      "outputs": [
        {
          "output_type": "stream",
          "name": "stdout",
          "text": [
            "[-10.           0.5312168    0.20454559   0.62859042   0.08635618\n",
            "   0.5782174    0.34000323   0.41616191   0.89682071   0.61839693\n",
            "   0.05952207   0.76967785   0.34493186   0.48974125   0.89908818\n",
            "   0.34074333   0.43650133   0.55335968   0.32994908   0.06143026]\n"
          ]
        }
      ],
      "source": [
        "ran_vec = np.random.rand(20)\n",
        "\n",
        "max_index = np.argmax(ran_vec)\n",
        "\n",
        "ran_vec[max_index] = -10\n",
        "\n",
        "print(ran_vec)"
      ]
    },
    {
      "cell_type": "markdown",
      "id": "4882ef61",
      "metadata": {
        "id": "4882ef61"
      },
      "source": [
        "**18. Find the nearest value from a given value (z) in an array (Z)**"
      ]
    },
    {
      "cell_type": "code",
      "execution_count": null,
      "id": "6a672218",
      "metadata": {
        "id": "6a672218",
        "colab": {
          "base_uri": "https://localhost:8080/"
        },
        "outputId": "3263243d-a1ad-41fd-afc6-7ca23301bd87"
      },
      "outputs": [
        {
          "output_type": "stream",
          "name": "stdout",
          "text": [
            "0.4667526162526342\n"
          ]
        }
      ],
      "source": [
        "Z = np.random.uniform(0,1,10)\n",
        "z = 0.5\n",
        "# Include your solution below\n",
        "\n",
        "#Absolute differences\n",
        "dif = np.abs(Z-z)\n",
        "\n",
        "#index 0f minimum difference\n",
        "nearest_index = np.argmin(dif)\n",
        "\n",
        "nearest_value = Z[nearest_index]\n",
        "print(nearest_value)\n"
      ]
    },
    {
      "cell_type": "markdown",
      "id": "1b359b48",
      "metadata": {
        "id": "1b359b48"
      },
      "source": [
        "**19. Consider the vector [5, 4, 3, 2, 1], how to build a new vector with 3 consecutive zeros interleaved between each value?**"
      ]
    },
    {
      "cell_type": "code",
      "execution_count": null,
      "id": "78033671",
      "metadata": {
        "id": "78033671",
        "colab": {
          "base_uri": "https://localhost:8080/"
        },
        "outputId": "560375c5-3ac9-4e33-e007-787d8870e511"
      },
      "outputs": [
        {
          "output_type": "stream",
          "name": "stdout",
          "text": [
            "[4 0 0 0 3 0 0 0 2 0 0 0 1 0 0 0 0]\n"
          ]
        }
      ],
      "source": [
        "arr = np.arange(5)[::-1]\n",
        "zeros = 3\n",
        "# Include your solution below\n",
        "\n",
        "new_arr = np.zeros(len(arr)+(len(arr)-1)*zeros, dtype= int)\n",
        "\n",
        "new_arr[::zeros+1] = arr\n",
        "\n",
        "print(new_arr)\n"
      ]
    },
    {
      "cell_type": "markdown",
      "id": "bbb34ee8",
      "metadata": {
        "id": "bbb34ee8"
      },
      "source": [
        "**20. Consider an array of dimension (5,5,3), how to mulitply it element-wise by an array with dimensions (5,5) - i.e., (5,5,0)$\\times$(5,5), (5,5,1)$\\times$(5,5), (5,5,2)$\\times$(5,5)**\n",
        "\n",
        "<br> Element-wise multiplication, or Hadamard Product, multiples every element of the first matrix by the equivalent element in the second matrix. When using this method, both matrices should have the same dimensions."
      ]
    },
    {
      "cell_type": "code",
      "execution_count": null,
      "id": "d9f47e30",
      "metadata": {
        "id": "d9f47e30",
        "colab": {
          "base_uri": "https://localhost:8080/"
        },
        "outputId": "4ff827e1-5d7e-4f46-8fda-6c029d07246d"
      },
      "outputs": [
        {
          "output_type": "stream",
          "name": "stdout",
          "text": [
            "[[[2. 2. 2.]\n",
            "  [2. 2. 2.]\n",
            "  [2. 2. 2.]\n",
            "  [2. 2. 2.]\n",
            "  [2. 2. 2.]]\n",
            "\n",
            " [[2. 2. 2.]\n",
            "  [2. 2. 2.]\n",
            "  [2. 2. 2.]\n",
            "  [2. 2. 2.]\n",
            "  [2. 2. 2.]]\n",
            "\n",
            " [[2. 2. 2.]\n",
            "  [2. 2. 2.]\n",
            "  [2. 2. 2.]\n",
            "  [2. 2. 2.]\n",
            "  [2. 2. 2.]]\n",
            "\n",
            " [[2. 2. 2.]\n",
            "  [2. 2. 2.]\n",
            "  [2. 2. 2.]\n",
            "  [2. 2. 2.]\n",
            "  [2. 2. 2.]]\n",
            "\n",
            " [[2. 2. 2.]\n",
            "  [2. 2. 2.]\n",
            "  [2. 2. 2.]\n",
            "  [2. 2. 2.]\n",
            "  [2. 2. 2.]]]\n"
          ]
        }
      ],
      "source": [
        "A = np.ones((5,5,3)) #3 Sets, 5 Rows per Set, 5 Columns\n",
        "B = 2*np.ones((5,5))\n",
        "# Include your solution below\n",
        "\n",
        "result = A * B[:,:,np.newaxis]\n",
        "print(result)"
      ]
    },
    {
      "cell_type": "markdown",
      "id": "147c7e98",
      "metadata": {
        "id": "147c7e98"
      },
      "source": [
        "**21. Swap the first and second rows of the 2D array below**"
      ]
    },
    {
      "cell_type": "code",
      "execution_count": null,
      "id": "167cd3da",
      "metadata": {
        "id": "167cd3da",
        "colab": {
          "base_uri": "https://localhost:8080/"
        },
        "outputId": "3c8dab70-076e-4747-e1d0-54b7dd24e13b"
      },
      "outputs": [
        {
          "output_type": "stream",
          "name": "stdout",
          "text": [
            "[[ 0  1  2  3  4]\n",
            " [ 5  6  7  8  9]\n",
            " [10 11 12 13 14]\n",
            " [15 16 17 18 19]\n",
            " [20 21 22 23 24]\n",
            " [25 26 27 28 29]]\n",
            "[[ 5  6  7  8  9]\n",
            " [ 0  1  2  3  4]\n",
            " [10 11 12 13 14]\n",
            " [15 16 17 18 19]\n",
            " [20 21 22 23 24]\n",
            " [25 26 27 28 29]]\n"
          ]
        }
      ],
      "source": [
        "arr = np.arange(30).reshape(6,5)\n",
        "print(arr)\n",
        "# Include your solution below\n",
        "arr[[0,1]] = arr[[1,0]]\n",
        "\n",
        "print(arr)"
      ]
    },
    {
      "cell_type": "markdown",
      "id": "b9d3c9f4",
      "metadata": {
        "id": "b9d3c9f4"
      },
      "source": [
        "**22. Write a function that receives as input a 2D Boolean NumPy array and outputs the coordinates of the minimal bounding-box\n",
        "that encloses all non-zero elements in the input array**\n",
        "\n",
        "**Tip:** search for the functions nonzero in the NumPy documentation.\n",
        "\n",
        "<img src=\"Figures/bin_image.png\" width=\"150\" />"
      ]
    },
    {
      "cell_type": "code",
      "execution_count": null,
      "id": "ba68addb",
      "metadata": {
        "id": "ba68addb",
        "colab": {
          "base_uri": "https://localhost:8080/",
          "height": 451
        },
        "outputId": "10f62660-88ae-4184-c63a-0811c4f6e509"
      },
      "outputs": [
        {
          "output_type": "execute_result",
          "data": {
            "text/plain": [
              "<matplotlib.patches.Rectangle at 0x7db7ac9ad540>"
            ]
          },
          "metadata": {},
          "execution_count": 51
        },
        {
          "output_type": "display_data",
          "data": {
            "text/plain": [
              "<Figure size 640x480 with 1 Axes>"
            ],
            "image/png": "[encoded data removed]"
          },
          "metadata": {}
        }
      ],
      "source": [
        "# for this question, you just need to complete the \"def bbox(img):\" function\n",
        "\n",
        "# Tip: search for the functions nonzero in the NumPy documentation.\n",
        "\n",
        "def bbox(img):\n",
        "    #include your solution below\n",
        "\n",
        "    #Find the coordinate of non-zero elements\n",
        "    nonzero_coords = np.transpose(np.nonzero(img))\n",
        "\n",
        "    if len(nonzero_coords) == 0:\n",
        "       # If there are no non-zero elements, return a default empty box\n",
        "        return 0, 0, 0, 0\n",
        "\n",
        "    #Extract x and y coordinates\n",
        "    x_coords,y_coords = nonzero_coords[:,0], nonzero_coords[:,1]\n",
        "\n",
        "    # Calculate bounding box coordinates\n",
        "    x_min, y_min = np.min(x_coords), np.min(y_coords)\n",
        "    x_max, y_max = np.max(x_coords), np.max(y_coords)\n",
        "\n",
        "    return x_min, y_min, x_max, y_max\n",
        "\n",
        "\n",
        "from PIL import Image\n",
        "from matplotlib.patches import Rectangle\n",
        "\n",
        "img = Image.open('bin_image.png').convert('L') #only stores a greyscale, not colour.\n",
        "img = np.array(img) > 0\n",
        "\n",
        "x_min, y_min, x_max, y_max = bbox(img)\n",
        "\n",
        "plt.imshow(Image.open('bin_image.png'))\n",
        "# Add the patch to the Axes\n",
        "plt.gca().add_patch(Rectangle((x_min,y_min),x_max-x_min,y_max-y_min,linewidth=1,edgecolor='r',facecolor='none'))\n"
      ]
    },
    {
      "cell_type": "markdown",
      "id": "20e0d092",
      "metadata": {
        "id": "20e0d092"
      },
      "source": [
        "**23.Write a function to compute the average over a sliding window of length N over a 1D array?** Assume the size of the array is divisible by N\n",
        "\n",
        "*Example:* [1,2,3,4,5,6,7,8,9], N = 3 -> [2,5,8]"
      ]
    },
    {
      "cell_type": "code",
      "execution_count": null,
      "id": "0a4bd3ca",
      "metadata": {
        "id": "0a4bd3ca",
        "colab": {
          "base_uri": "https://localhost:8080/"
        },
        "outputId": "636ebfca-92f8-4b3d-cccc-0b81ad458208"
      },
      "outputs": [
        {
          "output_type": "stream",
          "name": "stdout",
          "text": [
            "[2. 3. 4. 5. 6. 7. 8.]\n"
          ]
        }
      ],
      "source": [
        "def moving_average(x, N):\n",
        "    #define your function here\n",
        "    cumsum = np.cumsum(x)\n",
        "    cumsum[N:] = cumsum[N:] - cumsum[:-N]\n",
        "    return cumsum[N - 1:] / N\n",
        "a = np.arange(1, 10)\n",
        "\n",
        "N = 3\n",
        "print(moving_average(a,N))"
      ]
    },
    {
      "cell_type": "markdown",
      "id": "e88decef",
      "metadata": {
        "id": "e88decef"
      },
      "source": [
        "**24.  Given a sorted 1D array C that corresponds to a bincount, how to produce an array A such that np.bincount(A) == C?**\n",
        "\n",
        "*Example:* C = [3,2,4] -> D = [0,0,0,1,1,2,2,2,2]\n",
        "\n",
        "*Tip:* Consider using the NumPy repeat function"
      ]
    },
    {
      "cell_type": "code",
      "execution_count": null,
      "id": "e8f171ae",
      "metadata": {
        "id": "e8f171ae",
        "colab": {
          "base_uri": "https://localhost:8080/"
        },
        "outputId": "f16fe3bf-813f-4a0a-d1ef-225655238fe8"
      },
      "outputs": [
        {
          "output_type": "stream",
          "name": "stdout",
          "text": [
            "[3 2 4]\n",
            "[0 0 0 1 1 2 2 2 2]\n",
            "[ True  True  True]\n"
          ]
        }
      ],
      "source": [
        "D = np.array([0,0,0,1,1,2,2,2,2]) #count number of occurrences from 0 -> 2\n",
        "C = np.bincount(D)\n",
        "print(C)\n",
        "# Include your solution here\n",
        "A = np.repeat(np.arange(len(C)), C)\n",
        "\n",
        "print(A)\n",
        "print(np.bincount(A) == C)\n"
      ]
    },
    {
      "cell_type": "markdown",
      "id": "d6b2cff6",
      "metadata": {
        "id": "d6b2cff6"
      },
      "source": [
        "**25. Find the most frequent value in the array below?**"
      ]
    },
    {
      "cell_type": "code",
      "execution_count": null,
      "id": "d49e1bd2",
      "metadata": {
        "id": "d49e1bd2",
        "colab": {
          "base_uri": "https://localhost:8080/"
        },
        "outputId": "0b25e19b-fc05-4e19-9650-b4eecc54a6c0"
      },
      "outputs": [
        {
          "output_type": "stream",
          "name": "stdout",
          "text": [
            "9\n"
          ]
        }
      ],
      "source": [
        "from matplotlib.pyplot import subplots_adjust\n",
        "arr = np.random.randint(0,10,50)\n",
        "# Include your solution below\n",
        "\n",
        "counts = np.bincount(arr)\n",
        "\n",
        "most_freq_value = np.argmax(counts)\n",
        "\n",
        "print(most_freq_value)"
      ]
    },
    {
      "cell_type": "markdown",
      "id": "9f73e434",
      "metadata": {
        "id": "9f73e434"
      },
      "source": [
        "**26. Write a function to return the n largest values of an array**"
      ]
    },
    {
      "cell_type": "code",
      "execution_count": null,
      "id": "1ad00362",
      "metadata": {
        "id": "1ad00362",
        "colab": {
          "base_uri": "https://localhost:8080/"
        },
        "outputId": "79cd5af4-a2e5-426e-d2a1-6431bcf5a659"
      },
      "outputs": [
        {
          "output_type": "stream",
          "name": "stdout",
          "text": [
            "[99 98 97 96 95]\n"
          ]
        }
      ],
      "source": [
        "def nlargest(a, n = 5):\n",
        "    # Include your solution here\n",
        "    partioned = np.partition(a, -n)\n",
        "\n",
        "    #Get the n largest values formt the partioned Array\n",
        "    largest_n = partioned[-n:]\n",
        "\n",
        "    #Sort the n largest values in descending order\n",
        "    largest_n = np.sort(largest_n)[::-1]\n",
        "\n",
        "    return largest_n\n",
        "\n",
        "arr = np.arange(100)\n",
        "np.random.shuffle(arr)\n",
        "n = 5\n",
        "print(nlargest(arr,n))"
      ]
    },
    {
      "cell_type": "code",
      "execution_count": null,
      "id": "58badc03",
      "metadata": {
        "id": "58badc03"
      },
      "outputs": [],
      "source": []
    }
  ],
  "metadata": {
    "kernelspec": {
      "display_name": "Python 3 (ipykernel)",
      "language": "python",
      "name": "python3"
    },
    "language_info": {
      "codemirror_mode": {
        "name": "ipython",
        "version": 3
      },
      "file_extension": ".py",
      "mimetype": "text/x-python",
      "name": "python",
      "nbconvert_exporter": "python",
      "pygments_lexer": "ipython3",
      "version": "3.8.13"
    },
    "colab": {
      "provenance": []
    }
  },
  "nbformat": 4,
  "nbformat_minor": 5
}