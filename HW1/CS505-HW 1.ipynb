{
  "nbformat": 4,
  "nbformat_minor": 0,
  "metadata": {
    "colab": {
      "provenance": []
    },
    "kernelspec": {
      "name": "python3",
      "display_name": "Python 3"
    },
    "language_info": {
      "name": "python"
    }
  },
  "cells": [
    {
      "cell_type": "code",
      "execution_count": 51,
      "metadata": {
        "colab": {
          "base_uri": "https://localhost:8080/"
        },
        "id": "fX8QJhMzwEvj",
        "outputId": "09f8bf1d-d972-45df-9de9-bca5b179702e"
      },
      "outputs": [
        {
          "output_type": "stream",
          "name": "stdout",
          "text": [
            "Mean:  5.843333333333334\n",
            "Median:  5.8\n",
            "Standard Deviation:  0.8253012917851409\n",
            "\n",
            "\n",
            "Printing the Filtered Array where Petal Length > 1.5 and Sepal Length < 5.0\n",
            " [[4.8 3.4 1.6 0.2]\n",
            " [4.8 3.4 1.9 0.2]\n",
            " [4.7 3.2 1.6 0.2]\n",
            " [4.8 3.1 1.6 0.2]\n",
            " [4.9 2.4 3.3 1. ]\n",
            " [4.9 2.5 4.5 1.7]]\n"
          ]
        }
      ],
      "source": [
        "#importing the necessary packages\n",
        "import numpy as np\n",
        "\n",
        "#URL Link\n",
        "url = 'https://archive.ics.uci.edu/ml/machine-learning-databases/iris/iris.data'\n",
        "\n",
        "#Load the dataset from the csv file using numpy\n",
        "iris = np.genfromtxt(url,delimiter=',',dtype='float')\n",
        "\n",
        "#Getting the first column of iris's Sepal Length\n",
        "a = iris[:,:1]\n",
        "\n",
        "#print(a)\n",
        "#Calculating the iris's mean\n",
        "iris_mean = np.mean(a)\n",
        "print(\"Mean: \",iris_mean)\n",
        "\n",
        "#Calculating the iris's median\n",
        "iris_median = np.median(a)\n",
        "print(\"Median: \",iris_median)\n",
        "\n",
        "#Calculating the iris's standard deviation\n",
        "iris_standard_deviation = np.std(a)\n",
        "print(\"Standard Deviation: \",iris_standard_deviation)\n",
        "\n",
        "print()\n",
        "print()\n",
        "\n",
        "#HomeWork 2\n",
        "\n",
        "#Getting the columns\n",
        "iris_2d = np.genfromtxt(url,delimiter=',',dtype='float',usecols=[0,1,2,3])\n",
        "\n",
        "#Creating a new Array\n",
        "filter_arr = []\n",
        "\n",
        "#Getting the targeted column where b[0] = Sepal Length and b[2] = Petal Length\n",
        "for element in iris_2d:\n",
        "  if element[2] > 1.5 and element[0]< 5.0:\n",
        "    filter_arr.append(True)\n",
        "  else:\n",
        "    filter_arr.append(False)\n",
        "\n",
        "#Filtered Array\n",
        "newArr = iris_2d[filter_arr]\n",
        "#print(filter_arr)\n",
        "\n",
        "#\n",
        "print(\"Printing the Filtered Array where Petal Length > 1.5 and Sepal Length < 5.0\\n\",newArr)"
      ]
    }
  ]
}